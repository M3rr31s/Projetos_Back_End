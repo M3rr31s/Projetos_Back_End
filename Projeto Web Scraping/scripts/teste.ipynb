{
 "cells": [
  {
   "cell_type": "code",
   "execution_count": 9,
   "metadata": {},
   "outputs": [],
   "source": [
    "import requests\n",
    "from bs4 import BeautifulSoup"
   ]
  },
  {
   "cell_type": "code",
   "execution_count": 10,
   "metadata": {},
   "outputs": [],
   "source": [
    "link_site = 'https://www.google.com/search?q=cotacao+euro'\n",
    "headers = {'User-Agent':'Mozilla/5.0 (Windows NT 10.0; Win64; x64) AppleWebKit/537.36 (KHTML, like Gecko) Chrome/124.0.0.0 Safari/537.36'}\n",
    "    "
   ]
  },
  {
   "cell_type": "code",
   "execution_count": 11,
   "metadata": {},
   "outputs": [],
   "source": [
    "requisicao = requests.get(link_site, headers=headers)"
   ]
  },
  {
   "cell_type": "code",
   "execution_count": 12,
   "metadata": {},
   "outputs": [
    {
     "name": "stdout",
     "output_type": "stream",
     "text": [
      "<Response [200]>\n"
     ]
    }
   ],
   "source": [
    "print(requisicao)"
   ]
  },
  {
   "cell_type": "code",
   "execution_count": 13,
   "metadata": {},
   "outputs": [],
   "source": [
    "#print(requisicao.text)\n",
    "site = BeautifulSoup(requisicao.text, 'html.parser')\n",
    "#print(site.prettify())"
   ]
  },
  {
   "cell_type": "code",
   "execution_count": 14,
   "metadata": {},
   "outputs": [
    {
     "name": "stdout",
     "output_type": "stream",
     "text": [
      "<title>cotacao euro - Pesquisa Google</title>\n",
      "<title>cotacao euro - Pesquisa Google</title>\n"
     ]
    }
   ],
   "source": [
    "titulo = site.find('title')\n",
    "print(site.title)\n",
    "print(titulo)"
   ]
  },
  {
   "cell_type": "code",
   "execution_count": 15,
   "metadata": {},
   "outputs": [
    {
     "data": {
      "text/plain": [
       "<input aria-label=\"Campo do montante da moeda\" class=\"lWzCpb ZEB7Fb\" data-ved=\"2ahUKEwjlg6LasomGAxWlpZUCHWO-BAYQwKsBegQIBhAK\" jsaction=\"input:trigger.Wtqxqe\" type=\"number\" value=\"1\"/>"
      ]
     },
     "execution_count": 15,
     "metadata": {},
     "output_type": "execute_result"
    }
   ],
   "source": [
    "pesquisa = site.find_all('input')\n",
    "pesquisa[3]"
   ]
  },
  {
   "cell_type": "code",
   "execution_count": 16,
   "metadata": {},
   "outputs": [
    {
     "name": "stdout",
     "output_type": "stream",
     "text": [
      "<span class=\"DFlfde SwHCTb\" data-precision=\"2\" data-value=\"5.542674223000001\">5,54</span>\n",
      "5.542674223000001\n"
     ]
    }
   ],
   "source": [
    "pesquisa02 = site.find('span', class_=\"DFlfde SwHCTb\")\n",
    "print(pesquisa02)\n",
    "print(pesquisa02['data-value'])"
   ]
  }
 ],
 "metadata": {
  "kernelspec": {
   "display_name": "Python 3",
   "language": "python",
   "name": "python3"
  },
  "language_info": {
   "codemirror_mode": {
    "name": "ipython",
    "version": 3
   },
   "file_extension": ".py",
   "mimetype": "text/x-python",
   "name": "python",
   "nbconvert_exporter": "python",
   "pygments_lexer": "ipython3",
   "version": "3.12.1"
  }
 },
 "nbformat": 4,
 "nbformat_minor": 2
}
