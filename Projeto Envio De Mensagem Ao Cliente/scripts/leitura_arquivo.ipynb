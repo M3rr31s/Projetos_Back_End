{
 "cells": [
  {
   "cell_type": "code",
   "execution_count": 3,
   "metadata": {},
   "outputs": [],
   "source": [
    "class projeto_envio():\n",
    "    \n",
    "    def __init__(self):\n",
    "        self.leitura_base()\n",
    "        self.transform_data()\n",
    "        self.documento()\n",
    "\n",
    "\n",
    "    def leitura_base(self):    \n",
    "        #Importação Biblioteca\n",
    "        import pandas as pd\n",
    "        \n",
    "        #Path/Caminho do arquivo\n",
    "        path_arquivo = '../database/Database_client.csv'\n",
    "        \n",
    "        #Leitura do arquivo .csv\n",
    "        def leitura_arquivo(path, separador=';', idioma='latin-1'):\n",
    "            \n",
    "            arquivo = pd.read_csv(path, sep=separador,encoding=idioma)\n",
    "            return arquivo\n",
    "        #Arquivo \"Lido\"\n",
    "        self.arquivo = leitura_arquivo(path=path_arquivo, idioma='latin-1')\n",
    "         \n",
    "    def transform_data(self):       \n",
    "        #Tranformando a coluna \"Telefone\" no formato (00) 0000-0000,  Digamos que todos os DDD fossem iguais a 24, mas pode inserir outro valor na variavel DDD, que funcionara da mesma maneira\n",
    "        def transformar_numero(dataframe,DDD='', coluna_a_transformar=''):\n",
    "            dataframe[coluna_a_transformar] = f'({DDD})' + dataframe[coluna_a_transformar].astype(str)\n",
    "            dataframe[coluna_a_transformar] = dataframe[coluna_a_transformar].apply(lambda x: f'{x[:9]}-{x[9:]}')\n",
    "            return dataframe\n",
    "        \n",
    "        #Transformando a coluna \"Data da Última Compra\" em datetime\n",
    "        def transformar_data(dataframe, formato='%d/%m/%Y', coluna_a_transformar=''):\n",
    "            from pandas import to_datetime\n",
    "            dataframe[coluna_a_transformar] = to_datetime(dataframe[coluna_a_transformar], format=formato)  \n",
    "            return\n",
    "            \n",
    "        arquivo_transformado = self.arquivo.copy()\n",
    "        transformar_numero(dataframe=arquivo_transformado, DDD=24, coluna_a_transformar='Telefone')\n",
    "        transformar_data(dataframe=arquivo_transformado,coluna_a_transformar='Data da Última Compra')\n",
    "        \n",
    "        self.arquivo_transformado = arquivo_transformado.copy()\n",
    "        \n",
    "    def documento(self):\n",
    "        #Extraindo dados dos clientes\n",
    "        for i in self.arquivo_transformado:\n",
    "            print(i)\n",
    "        \n",
    "        "
   ]
  },
  {
   "cell_type": "code",
   "execution_count": 4,
   "metadata": {},
   "outputs": [
    {
     "name": "stdout",
     "output_type": "stream",
     "text": [
      "ID\n",
      "Nome\n",
      "Forma de Pagamento\n",
      "E-mail\n",
      "Telefone\n",
      "Data da Última Compra\n",
      "Endereço\n"
     ]
    }
   ],
   "source": [
    "x = projeto_envio()"
   ]
  },
  {
   "cell_type": "code",
   "execution_count": null,
   "metadata": {},
   "outputs": [],
   "source": []
  }
 ],
 "metadata": {
  "kernelspec": {
   "display_name": "Python 3",
   "language": "python",
   "name": "python3"
  },
  "language_info": {
   "codemirror_mode": {
    "name": "ipython",
    "version": 3
   },
   "file_extension": ".py",
   "mimetype": "text/x-python",
   "name": "python",
   "nbconvert_exporter": "python",
   "pygments_lexer": "ipython3",
   "version": "3.12.1"
  }
 },
 "nbformat": 4,
 "nbformat_minor": 2
}
